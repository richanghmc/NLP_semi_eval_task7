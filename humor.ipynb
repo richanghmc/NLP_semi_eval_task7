{
 "cells": [
  {
   "cell_type": "code",
   "execution_count": 7,
   "metadata": {},
   "outputs": [],
   "source": [
    "import numpy\n",
    "import pandas as pd\n",
    "import matplotlib.pyplot as plt\n",
    "import collections\n",
    "from sklearn.metrics import cohen_kappa_score\n",
    "import matplotlib.pyplot as plt\n",
    "import seaborn"
   ]
  },
  {
   "cell_type": "code",
   "execution_count": 10,
   "metadata": {},
   "outputs": [
    {
     "data": {
      "text/html": [
       "<div>\n",
       "<style scoped>\n",
       "    .dataframe tbody tr th:only-of-type {\n",
       "        vertical-align: middle;\n",
       "    }\n",
       "\n",
       "    .dataframe tbody tr th {\n",
       "        vertical-align: top;\n",
       "    }\n",
       "\n",
       "    .dataframe thead th {\n",
       "        text-align: right;\n",
       "    }\n",
       "</style>\n",
       "<table border=\"1\" class=\"dataframe\">\n",
       "  <thead>\n",
       "    <tr style=\"text-align: right;\">\n",
       "      <th></th>\n",
       "      <th>id</th>\n",
       "      <th>original</th>\n",
       "      <th>edit</th>\n",
       "      <th>grades</th>\n",
       "      <th>meanGrade</th>\n",
       "    </tr>\n",
       "  </thead>\n",
       "  <tbody>\n",
       "    <tr>\n",
       "      <th>0</th>\n",
       "      <td>14530</td>\n",
       "      <td>France is ‘ hunting down its citizens who join...</td>\n",
       "      <td>twins</td>\n",
       "      <td>10000</td>\n",
       "      <td>0.2</td>\n",
       "    </tr>\n",
       "    <tr>\n",
       "      <th>1</th>\n",
       "      <td>13034</td>\n",
       "      <td>Pentagon claims 2,000 % increase in Russian tr...</td>\n",
       "      <td>bowling</td>\n",
       "      <td>33110</td>\n",
       "      <td>1.6</td>\n",
       "    </tr>\n",
       "    <tr>\n",
       "      <th>2</th>\n",
       "      <td>8731</td>\n",
       "      <td>Iceland PM Calls Snap Vote as Pedophile Furor ...</td>\n",
       "      <td>party</td>\n",
       "      <td>22100</td>\n",
       "      <td>1.0</td>\n",
       "    </tr>\n",
       "    <tr>\n",
       "      <th>3</th>\n",
       "      <td>76</td>\n",
       "      <td>In an apparent first , Iran and Israel &lt;engage...</td>\n",
       "      <td>slap</td>\n",
       "      <td>20000</td>\n",
       "      <td>0.4</td>\n",
       "    </tr>\n",
       "    <tr>\n",
       "      <th>4</th>\n",
       "      <td>6164</td>\n",
       "      <td>Trump was told weeks ago that Flynn misled &lt;Vi...</td>\n",
       "      <td>school</td>\n",
       "      <td>0</td>\n",
       "      <td>0.0</td>\n",
       "    </tr>\n",
       "    <tr>\n",
       "      <th>...</th>\n",
       "      <td>...</td>\n",
       "      <td>...</td>\n",
       "      <td>...</td>\n",
       "      <td>...</td>\n",
       "      <td>...</td>\n",
       "    </tr>\n",
       "    <tr>\n",
       "      <th>9647</th>\n",
       "      <td>10899</td>\n",
       "      <td>State officials blast ' unprecedented ' DHS &lt;m...</td>\n",
       "      <td>idea</td>\n",
       "      <td>0</td>\n",
       "      <td>0.0</td>\n",
       "    </tr>\n",
       "    <tr>\n",
       "      <th>9648</th>\n",
       "      <td>1781</td>\n",
       "      <td>Protesters Rally for &lt;Refugees/&gt; Detained at J...</td>\n",
       "      <td>stewardesses</td>\n",
       "      <td>20000</td>\n",
       "      <td>0.4</td>\n",
       "    </tr>\n",
       "    <tr>\n",
       "      <th>9649</th>\n",
       "      <td>5628</td>\n",
       "      <td>Cruise line Carnival Corp. joins the fight aga...</td>\n",
       "      <td>raisin</td>\n",
       "      <td>21000</td>\n",
       "      <td>0.6</td>\n",
       "    </tr>\n",
       "    <tr>\n",
       "      <th>9650</th>\n",
       "      <td>14483</td>\n",
       "      <td>Columbia police hunt woman seen with &lt;gun/&gt; ne...</td>\n",
       "      <td>cake</td>\n",
       "      <td>32200</td>\n",
       "      <td>1.4</td>\n",
       "    </tr>\n",
       "    <tr>\n",
       "      <th>9651</th>\n",
       "      <td>5255</td>\n",
       "      <td>Here 's What 's In The House-Approved Health &lt;...</td>\n",
       "      <td>food</td>\n",
       "      <td>11000</td>\n",
       "      <td>0.4</td>\n",
       "    </tr>\n",
       "  </tbody>\n",
       "</table>\n",
       "<p>9652 rows × 5 columns</p>\n",
       "</div>"
      ],
      "text/plain": [
       "         id                                           original          edit  \\\n",
       "0     14530  France is ‘ hunting down its citizens who join...         twins   \n",
       "1     13034  Pentagon claims 2,000 % increase in Russian tr...       bowling   \n",
       "2      8731  Iceland PM Calls Snap Vote as Pedophile Furor ...         party   \n",
       "3        76  In an apparent first , Iran and Israel <engage...          slap   \n",
       "4      6164  Trump was told weeks ago that Flynn misled <Vi...        school   \n",
       "...     ...                                                ...           ...   \n",
       "9647  10899  State officials blast ' unprecedented ' DHS <m...          idea   \n",
       "9648   1781  Protesters Rally for <Refugees/> Detained at J...  stewardesses   \n",
       "9649   5628  Cruise line Carnival Corp. joins the fight aga...        raisin   \n",
       "9650  14483  Columbia police hunt woman seen with <gun/> ne...          cake   \n",
       "9651   5255  Here 's What 's In The House-Approved Health <...          food   \n",
       "\n",
       "      grades  meanGrade  \n",
       "0      10000        0.2  \n",
       "1      33110        1.6  \n",
       "2      22100        1.0  \n",
       "3      20000        0.4  \n",
       "4          0        0.0  \n",
       "...      ...        ...  \n",
       "9647       0        0.0  \n",
       "9648   20000        0.4  \n",
       "9649   21000        0.6  \n",
       "9650   32200        1.4  \n",
       "9651   11000        0.4  \n",
       "\n",
       "[9652 rows x 5 columns]"
      ]
     },
     "execution_count": 10,
     "metadata": {},
     "output_type": "execute_result"
    }
   ],
   "source": [
    "df = pd.read_csv('/Users/richardchang/Documents/Natural Language Processing/NLP_semi_eval_task7/semeval-2020-task-7-dataset/subtask-1/train.csv')\n",
    "df"
   ]
  },
  {
   "cell_type": "code",
   "execution_count": 11,
   "metadata": {},
   "outputs": [
    {
     "data": {
      "image/png": "[encoded data removed]",
      "text/plain": [
       "<Figure size 432x288 with 1 Axes>"
      ]
     },
     "metadata": {
      "needs_background": "light"
     },
     "output_type": "display_data"
    }
   ],
   "source": [
    "mean_grade = df[\"meanGrade\"]\n",
    "plt.hist(mean_grade)\n",
    "plt.show()"
   ]
  },
  {
   "cell_type": "code",
   "execution_count": 12,
   "metadata": {},
   "outputs": [
    {
     "data": {
      "text/plain": [
       "[('party', 54),\n",
       " ('hair', 47),\n",
       " ('dance', 42),\n",
       " ('circus', 27),\n",
       " ('dancing', 27),\n",
       " ('dog', 26),\n",
       " ('food', 23),\n",
       " ('dinner', 23),\n",
       " ('monkey', 21),\n",
       " ('bathroom', 21),\n",
       " ('puppy', 21),\n",
       " ('pizza', 20),\n",
       " ('pumpkin', 20),\n",
       " ('clown', 19),\n",
       " ('eat', 19)]"
      ]
     },
     "execution_count": 12,
     "metadata": {},
     "output_type": "execute_result"
    }
   ],
   "source": [
    "count = collections.Counter(list(df[\"edit\"]))\n",
    "count.most_common(15)"
   ]
  },
  {
   "cell_type": "code",
   "execution_count": 14,
   "metadata": {},
   "outputs": [
    {
     "data": {
      "image/png": "[encoded data removed]",
      "text/plain": [
       "<Figure size 432x288 with 1 Axes>"
      ]
     },
     "metadata": {
      "needs_background": "light"
     },
     "output_type": "display_data"
    }
   ],
   "source": [
    "seaborn.boxplot(x=df[\"meanGrade\"])\n",
    "plt.show()"
   ]
  },
  {
   "cell_type": "code",
   "execution_count": 15,
   "metadata": {},
   "outputs": [
    {
     "data": {
      "text/plain": [
       "'France is ‘ hunting down its citizens who joined <Isis/> ’ without trial in Iraq'"
      ]
     },
     "execution_count": 15,
     "metadata": {},
     "output_type": "execute_result"
    }
   ],
   "source": [
    "df[\"original\"][0]"
   ]
  },
  {
   "cell_type": "code",
   "execution_count": 16,
   "metadata": {},
   "outputs": [
    {
     "data": {
      "text/plain": [
       "{1, 5, 10, 15}"
      ]
     },
     "execution_count": 16,
     "metadata": {},
     "output_type": "execute_result"
    }
   ],
   "source": [
    "grade_len = set(len(str(grade)) for grade in list(df[\"grades\"]))\n",
    "grade_len"
   ]
  },
  {
   "cell_type": "code",
   "execution_count": null,
   "metadata": {},
   "outputs": [],
   "source": []
  }
 ],
 "metadata": {
  "kernelspec": {
   "display_name": "Python 3",
   "language": "python",
   "name": "python3"
  },
  "language_info": {
   "codemirror_mode": {
    "name": "ipython",
    "version": 3
   },
   "file_extension": ".py",
   "mimetype": "text/x-python",
   "name": "python",
   "nbconvert_exporter": "python",
   "pygments_lexer": "ipython3",
   "version": "3.10.4"
  }
 },
 "nbformat": 4,
 "nbformat_minor": 2
}
